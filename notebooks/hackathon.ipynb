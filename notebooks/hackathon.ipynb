{
 "cells": [
  {
   "cell_type": "code",
   "execution_count": 1,
   "metadata": {},
   "outputs": [
    {
     "name": "stderr",
     "output_type": "stream",
     "text": [
      "jit_kernel_load(): cache file \"/home/viscomp/.drjit/d30246d2dab00df925524d056480522e.cuda.bin\" is from an incompatible version of Dr.Jit. You may want to wipe your ~/.drjit directory.\n",
      "jit_kernel_write(): could not link cache file \"/home/viscomp/.drjit/d30246d2dab00df925524d056480522e.cuda.bin\" into file system: File exists\n",
      "jit_kernel_load(): cache file \"/home/viscomp/.drjit/c1a001ea8c957bc1a7ed2ccd861bb63a.cuda.bin\" is from an incompatible version of Dr.Jit. You may want to wipe your ~/.drjit directory.\n",
      "jit_kernel_write(): could not link cache file \"/home/viscomp/.drjit/c1a001ea8c957bc1a7ed2ccd861bb63a.cuda.bin\" into file system: File exists\n",
      "jit_kernel_load(): cache file \"/home/viscomp/.drjit/c1a001ea8c957bc1a7ed2ccd861bb63a.cuda.bin\" is from an incompatible version of Dr.Jit. You may want to wipe your ~/.drjit directory.\n",
      "jit_kernel_write(): could not link cache file \"/home/viscomp/.drjit/c1a001ea8c957bc1a7ed2ccd861bb63a.cuda.bin\" into file system: File exists\n"
     ]
    }
   ],
   "source": [
    "import mitsuba as mi\n",
    "import drjit as dr\n",
    "import numpy as np\n",
    "import matplotlib.pyplot as plt\n",
    "import matplotlib.cm as cm\n",
    "\n",
    "mi.set_variant('cuda_ad_rgb')\n",
    "\n",
    "from mitsuba import ScalarTransform4f as T"
   ]
  },
  {
   "cell_type": "code",
   "execution_count": 2,
   "metadata": {},
   "outputs": [
    {
     "name": "stdout",
     "output_type": "stream",
     "text": [
      "SceneParameters[\n",
      "  ------------------------------------------------------------------------------------\n",
      "  Name                             Flags    Type  Parent\n",
      "  ------------------------------------------------------------------------------------\n",
      "  sensor.near_clip                          float PerspectiveCamera\n",
      "  sensor.far_clip                           float PerspectiveCamera\n",
      "  sensor.shutter_open                       float PerspectiveCamera\n",
      "  sensor.shutter_open_time                  float PerspectiveCamera\n",
      "  sensor.film.size                          ScalarVector2u HDRFilm\n",
      "  sensor.film.crop_size                     ScalarVector2u HDRFilm\n",
      "  sensor.film.crop_offset                   ScalarPoint2u HDRFilm\n",
      "  sensor.x_fov                     ∂, D     Float PerspectiveCamera\n",
      "  sensor.to_world                  ∂, D     Transform4f PerspectiveCamera\n",
      "  sphere.bsdf.reflectance.value    ∂        Color3f SRGBReflectanceSpectrum\n",
      "  sphere.to_world                  ∂, D     Transform4f Sphere\n",
      "]\n"
     ]
    }
   ],
   "source": [
    "scene = mi.load_dict({\n",
    "    'type': 'scene',\n",
    "    'integrator': {\n",
    "        'type': 'sdf_integrator',\n",
    "    },\n",
    "    'sensor': {\n",
    "        'type': 'perspective',\n",
    "        'fov': 39.3077,\n",
    "        'to_world': T.look_at(\n",
    "            origin=[0, 0, 5],\n",
    "            target=[0, 0, 0],\n",
    "            up=[0, 1, 0]\n",
    "        ),\n",
    "        'sampler': {\n",
    "            'type': 'independent',\n",
    "            'sample_count': 16\n",
    "        },\n",
    "        'film': {\n",
    "            'type': 'hdrfilm',\n",
    "            'width': 512,\n",
    "            'height': 512,\n",
    "            'rfilter': {\n",
    "                'type': 'gaussian',\n",
    "            },\n",
    "            'pixel_format': 'rgb',\n",
    "            'sample_border': True,\n",
    "        },\n",
    "    },\n",
    "    'sphere': {\n",
    "        'type': 'sphere',\n",
    "        'to_world': T.translate([0, 0, 0]),\n",
    "        'bsdf': {\n",
    "            'type': 'diffuse',\n",
    "            'reflectance': {'type': 'rgb', 'value': [0, 1, 0]},\n",
    "        },\n",
    "    },\n",
    "})\n",
    "\n",
    "\n",
    "def relse(a, b):\n",
    "    return dr.sqr(a - b) / (dr.sqr(b) + 1e-2)\n",
    "\n",
    "def relmse(a, b):\n",
    "    return dr.mean(relse(a, b))\n",
    "\n",
    "params = mi.traverse(scene)\n",
    "print(params)\n",
    "\n",
    "# key = 'sphere.bsdf.reflectance.value'\n",
    "key = 'sphere.to_world'"
   ]
  },
  {
   "cell_type": "code",
   "execution_count": 3,
   "metadata": {},
   "outputs": [
    {
     "data": {
      "image/png": "[encoded data removed]",
      "text/plain": [
       "<Figure size 432x288 with 1 Axes>"
      ]
     },
     "metadata": {
      "needs_background": "light"
     },
     "output_type": "display_data"
    }
   ],
   "source": [
    "image_ref = mi.render(scene, params, seed=0, spp=1)\n",
    "plt.axis('off')\n",
    "plt.imshow(mi.util.convert_to_bitmap(image_ref));"
   ]
  },
  {
   "cell_type": "code",
   "execution_count": 4,
   "metadata": {},
   "outputs": [],
   "source": [
    "# opt = mi.ad.Adam(lr=0.1)\n",
    "# params[key] = mi.Color3f(1, 1, 0)\n",
    "\n",
    "# opt[key] = params[key]\n",
    "# params.update(opt);\n",
    "\n",
    "# for i in range(25):\n",
    "#     image = mi.render(scene, params, seed=0, spp=1)\n",
    "\n",
    "#     loss = relmse(image, image_ref)\n",
    "#     dr.backward(loss)\n",
    "\n",
    "#     opt.step()\n",
    "\n",
    "#     opt[key] = dr.clamp(opt[key], 0.0, 1.0)\n",
    "\n",
    "#     params.update(opt)\n",
    "\n",
    "#     print(f'Iteration {i} -- loss {loss[0]:.3e} --', end='\\r')\n",
    "# print()\n",
    "\n",
    "# image = mi.render(scene, params, seed=0)\n",
    "\n",
    "# plt.axis('off')\n",
    "# plt.imshow(mi.util.convert_to_bitmap(image));\n",
    "\n",
    "# print(params[key])"
   ]
  },
  {
   "cell_type": "code",
   "execution_count": 5,
   "metadata": {},
   "outputs": [
    {
     "name": "stdout",
     "output_type": "stream",
     "text": [
      "Remapping colors within range: [-3.23, 3.23]\n"
     ]
    },
    {
     "data": {
      "image/png": "[encoded data removed]",
      "text/plain": [
       "<Figure size 432x288 with 1 Axes>"
      ]
     },
     "metadata": {
      "needs_background": "light"
     },
     "output_type": "display_data"
    }
   ],
   "source": [
    "def apply_transformation(params, trans):\n",
    "    params[key] = mi.Transform4f.translate([trans.x, trans.y, trans.z])\n",
    "    params.update()\n",
    "\n",
    "def convert_to_lum(grad_tensor):\n",
    "    grad_color = dr.unravel(mi.Color3f, dr.ravel(grad_tensor[...,:3]))\n",
    "    grad_lum = mi.luminance(grad_color)\n",
    "    return mi.TensorXf(grad_lum, shape=(grad_tensor.shape[0], grad_tensor.shape[1]))\n",
    "\n",
    "trans = mi.Vector3f(0.5, 0, 0)\n",
    "dr.enable_grad(trans)\n",
    "apply_transformation(params, trans)\n",
    "\n",
    "image = mi.render(scene, params, seed=0, spp=16)\n",
    "\n",
    "dr.forward(trans)\n",
    "\n",
    "# Fetch the image gradient values\n",
    "grad_image = dr.grad(image)\n",
    "grad_image = convert_to_lum(grad_image)\n",
    "\n",
    "cmap = cm.coolwarm\n",
    "vlim = np.quantile(dr.abs(grad_image), 0.995)\n",
    "print(f'Remapping colors within range: [{-vlim:.2f}, {vlim:.2f}]')\n",
    "\n",
    "plt.axis('off')\n",
    "plt.imshow(grad_image, cmap=cm.coolwarm, vmin=-vlim, vmax=vlim);"
   ]
  },
  {
   "cell_type": "code",
   "execution_count": 6,
   "metadata": {},
   "outputs": [
    {
     "name": "stdout",
     "output_type": "stream",
     "text": [
      "Iteration 249 -- loss 1.055e-04 --\n",
      "[[[1, 0, 0, 0.000336441],\n",
      "  [0, 1, 0, 0.00014391],\n",
      "  [0, 0, 1, -0.00277094],\n",
      "  [0, 0, 0, 1]]]\n"
     ]
    },
    {
     "data": {
      "image/png": "[encoded data removed]",
      "text/plain": [
       "<Figure size 432x288 with 1 Axes>"
      ]
     },
     "metadata": {
      "needs_background": "light"
     },
     "output_type": "display_data"
    }
   ],
   "source": [
    "opt = mi.ad.Adam(lr=0.01)\n",
    "opt['trans'] = mi.Vector3f(0.5, -0.2, 0.3)\n",
    "\n",
    "def apply_transformation(params, opt):\n",
    "    params[key] = mi.Transform4f.translate([opt['trans'].x, opt['trans'].y, opt['trans'].z])\n",
    "    params.update()\n",
    "\n",
    "for i in range(250):\n",
    "    apply_transformation(params, opt)\n",
    "\n",
    "    image = mi.render(scene, params, seed=0, spp=1)\n",
    "\n",
    "    loss = relmse(image, image_ref)\n",
    "    \n",
    "    trans_grad = mi.Vector3f(0)\n",
    "    \n",
    "    for c in range(3):\n",
    "        grad_in = mi.Vector3f(0, 0, 0)\n",
    "        grad_in[c] = 1\n",
    "        dr.set_grad(opt['trans'], grad_in)\n",
    "        dr.enqueue(dr.ADMode.Forward, opt['trans'])\n",
    "        dr.traverse(type(opt['trans']), dr.ADMode.Forward, flags=dr.ADFlag.ClearVertices)\n",
    "        trans_grad[c] = dr.grad(loss)\n",
    "\n",
    "    dr.set_grad(opt['trans'], trans_grad)\n",
    "\n",
    "    opt.step()\n",
    "\n",
    "    print(f'Iteration {i} -- loss {loss[0]:.3e} --', end='\\r')\n",
    "print()\n",
    "\n",
    "image = mi.render(scene, params, seed=0)\n",
    "\n",
    "plt.axis('off')\n",
    "plt.imshow(mi.util.convert_to_bitmap(image));\n",
    "\n",
    "print(params[key])"
   ]
  },
  {
   "cell_type": "code",
   "execution_count": 7,
   "metadata": {},
   "outputs": [
    {
     "name": "stdout",
     "output_type": "stream",
     "text": [
      "[-1.999999761581421] [[-0.07708980143070221, -0.8744156956672668, -0.4790138304233551]]\n",
      "[[[3986185.25, -270309.34375, -148078.21875],\n",
      "  [-270309.34375, 943946.625, -1679624.375],\n",
      "  [-148078.203125, -1679624.375, 3089900.75]]]\n",
      "[[[3986185.5, -270309.3125, -148078.203125],\n",
      "  [-270309.3125, 943946.6875, -1679624.25],\n",
      "  [-148078.203125, -1679624.25, 3089900.75]]]\n"
     ]
    }
   ],
   "source": [
    "from mitsuba import Transform4f as T4f\n",
    "\n",
    "def eval(position):\n",
    "    T = T4f.translate([1, 2, 3]).rotate(dr.normalize(mi.Point3f(0.2, 0.3, 0.4)), 0.2)\n",
    "    scale = 2\n",
    "\n",
    "    T_inv = T.inverse()\n",
    "    transformed_p = T_inv.transform_affine(position)\n",
    "    p = transformed_p / scale\n",
    "    norm_p = dr.norm(p)\n",
    "\n",
    "    f = scale * (norm_p - 1.0)\n",
    "    p_norm = dr.select(dr.neq(norm_p, 0), p / norm_p, 0)\n",
    "    A_inv = mi.Matrix3f(T_inv.matrix)\n",
    "    A_invT = dr.transpose(A_inv)\n",
    "    dfdx = A_invT@p_norm\n",
    "\n",
    "    dfdx2 = dr.detach(dfdx)\n",
    "    dfdx_outer = mi.Matrix3f(dfdx2 * dfdx2[0], dfdx2 * dfdx2[1], dfdx2 * dfdx2[2])\n",
    "    denom = norm_p * scale\n",
    "    dfdxx = dr.select(dr.neq(norm_p, 0), (1 - dfdx_outer) / denom, 0)\n",
    "\n",
    "    return f, dfdx, dfdxx\n",
    "\n",
    "p = mi.Point3f(1, 2, 3)\n",
    "dr.enable_grad(p)\n",
    "\n",
    "f, n, dndx_analytic = eval(p)\n",
    "# dr.backward(f)\n",
    "# dfdx = dr.grad(p)\n",
    "\n",
    "dndx = mi.Matrix3f(0)\n",
    "for i in range(3):\n",
    "    f, n, dndx_analytic = eval(p)\n",
    "    dr.forward(p[i])\n",
    "    dndx[i] = dr.grad(n)\n",
    "print(f, n)\n",
    "# print(dfdx)\n",
    "# print(n)\n",
    "\n",
    "print(dndx)\n",
    "print(dndx_analytic)\n"
   ]
  },
  {
   "cell_type": "code",
   "execution_count": 8,
   "metadata": {},
   "outputs": [
    {
     "name": "stdout",
     "output_type": "stream",
     "text": [
      "[[0.09998994320631027, 0.29997003078460693]]\n",
      "[[[-0.6406628489494324, 0.018694059923291206, 0.0],\n",
      "  [0.019545480608940125, -0.5488349199295044, 0.0],\n",
      "  [0.18540972471237183, 0.05817750468850136, 0.0]]]\n",
      "[[[-0.6406630277633667, 0.018694059923291206, 0.0],\n",
      "  [0.019545480608940125, -0.5488349199295044, 0.0],\n",
      "  [0.18540972471237183, 0.05817750096321106, 0.0]]]\n",
      "[[[-1.438740849494934, -0.004276650957763195, 0.4219626486301422],\n",
      "  [0.005071253515779972, -1.7997187376022339, 0.20724546909332275],\n",
      "  [0.0, 0.0, 0.0]]]\n",
      "[[[-1.4388840198516846, -0.004277101717889309, 0.42200449109077454],\n",
      "  [0.005071737803518772, -1.7998982667922974, 0.20726610720157623],\n",
      "  [0.0, 0.0, 0.0]]]\n",
      "[[-0.43570762872695923, -0.47196337580680847, 0.0]]\n"
     ]
    }
   ],
   "source": [
    "def normalize_grad(v):\n",
    "    norm = dr.norm(v)\n",
    "    inv_norm = dr.select(dr.neq(norm, 0), 1 / norm, 0)\n",
    "    s = v * inv_norm\n",
    "    sos = mi.Matrix3f(s * s[0], s * s[1], s * s[2])\n",
    "    return inv_norm * (1 - sos)\n",
    "\n",
    "film_size = mi.ScalarVector2i(100, 80)\n",
    "crop_size = mi.ScalarVector2i(100, 80)\n",
    "to_world = T4f.translate([1, 2, 3]).rotate(dr.normalize(mi.Point3f(0.2, 0.3, 0.4)), 0.2)\n",
    "\n",
    "m_principal_point_offset = mi.Vector2i(0)\n",
    "camera_to_sample = mi.perspective_projection(film_size, crop_size, mi.ScalarVector2i(0, 0), 40, 0.1, 1000)\n",
    "sample_to_camera = camera_to_sample.inverse()\n",
    "\n",
    "scaled_principal_point_offset = film_size * m_principal_point_offset // crop_size\n",
    "\n",
    "def u_to_d(u):\n",
    "    near_p = sample_to_camera @ \\\n",
    "            mi.Point3f(u.x + scaled_principal_point_offset.x,\n",
    "                      u.y + scaled_principal_point_offset.y,\n",
    "                      0)\n",
    "\n",
    "    d = dr.normalize(mi.Vector3f(near_p))\n",
    "    d = to_world @ d\n",
    "\n",
    "    dddu = mi.Matrix3f(to_world.matrix) \\\n",
    "        @ normalize_grad(near_p) \\\n",
    "        @ dr.transpose(mi.Matrix3f(sample_to_camera.matrix)) \\\n",
    "        / sample_to_camera.matrix[3,3]\n",
    "\n",
    "    return d, dddu\n",
    "\n",
    "def d_to_u(d):   \n",
    "    u = camera_to_sample @ to_world.inverse() @ d\n",
    "    u /= u.z\n",
    "    u = mi.Vector2f(u.x, u.y)\n",
    "\n",
    "    du_dd = mi.Matrix3f(camera_to_sample.matrix)@mi.Matrix3f(to_world.inverse().matrix)\n",
    "\n",
    "    return u, du_dd\n",
    "\n",
    "position_sample = mi.Vector2f(0.1, 0.3)\n",
    "dr.enable_grad(position_sample)\n",
    "dir, d_dir_du_analytic = u_to_d(position_sample)\n",
    "u = d_to_u(dir)\n",
    "\n",
    "d_dir_du = mi.Matrix3f(0)\n",
    "for i in range(2):\n",
    "    dir, d_dir_du_analytic = u_to_d(position_sample)\n",
    "    dr.forward(position_sample[i])\n",
    "    d_dir_du[i] = dr.grad(dir)\n",
    "\n",
    "du_ddir = mi.Matrix3f(0)\n",
    "dir = dr.detach(dir)\n",
    "dr.enable_grad(dir)\n",
    "for i in range(3):\n",
    "    u, du_dd = d_to_u(dir)\n",
    "    dr.forward(dir[i])\n",
    "    du_ddir[i] = mi.Vector3f(dr.grad(u).x, dr.grad(u).y, 0)\n",
    "du_ddir_analytic = mi.Matrix3f(dr.inverse(mi.Matrix2f(dr.transpose(d_dir_du_analytic)@d_dir_du_analytic)))@dr.transpose(d_dir_du_analytic)\n",
    "\n",
    "print(u)\n",
    "print(d_dir_du)\n",
    "print(d_dir_du_analytic)\n",
    "print(du_ddir)\n",
    "print(du_ddir_analytic)\n",
    "# print(du_dd)\n",
    "print(mi.Vector3f(1, 1, 1)@d_dir_du)"
   ]
  }
 ],
 "metadata": {
  "kernelspec": {
   "display_name": "Python 3.10.6 64-bit",
   "language": "python",
   "name": "python3"
  },
  "language_info": {
   "codemirror_mode": {
    "name": "ipython",
    "version": 3
   },
   "file_extension": ".py",
   "mimetype": "text/x-python",
   "name": "python",
   "nbconvert_exporter": "python",
   "pygments_lexer": "ipython3",
   "version": "3.10.6"
  },
  "orig_nbformat": 4,
  "vscode": {
   "interpreter": {
    "hash": "916dbcbb3f70747c44a77c7bcd40155683ae19c65e1c03b4aa3499c5328201f1"
   }
  }
 },
 "nbformat": 4,
 "nbformat_minor": 2
}
